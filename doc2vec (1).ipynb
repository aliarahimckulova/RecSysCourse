{
  "cells": [
    {
      "cell_type": "markdown",
      "metadata": {
        "id": "lJ86j6YhuYx_"
      },
      "source": [
        "# 0. Configuration"
      ]
    },
    {
      "cell_type": "code",
      "execution_count": null,
      "metadata": {
        "id": "qh07PuaguYyE"
      },
      "outputs": [],
      "source": [
        "# links to shared data MovieLens\n",
        "# source on kaggle: https://www.kaggle.com/code/quangnhatbui/movie-recommender/data\n",
        "MOVIES_METADATA_URL = 'https://drive.google.com/file/d/19g6-apYbZb5D-wRj4L7aYKhxS-fDM4Fb/view?usp=share_link'"
      ]
    },
    {
      "cell_type": "markdown",
      "metadata": {
        "id": "fczhoW66uYyG"
      },
      "source": [
        "# 1. Modules and functions"
      ]
    },
    {
      "cell_type": "code",
      "source": [
        "!pip install --upgrade gensim"
      ],
      "metadata": {
        "colab": {
          "base_uri": "https://localhost:8080/"
        },
        "id": "cBWSdCzItNjK",
        "outputId": "e507c4de-b9aa-4b69-8b18-07a744b799c9"
      },
      "execution_count": null,
      "outputs": [
        {
          "output_type": "stream",
          "name": "stdout",
          "text": [
            "Looking in indexes: https://pypi.org/simple, https://us-python.pkg.dev/colab-wheels/public/simple/\n",
            "Requirement already satisfied: gensim in /usr/local/lib/python3.8/dist-packages (4.3.0)\n",
            "Requirement already satisfied: FuzzyTM>=0.4.0 in /usr/local/lib/python3.8/dist-packages (from gensim) (2.0.5)\n",
            "Requirement already satisfied: smart-open>=1.8.1 in /usr/local/lib/python3.8/dist-packages (from gensim) (6.3.0)\n",
            "Requirement already satisfied: scipy>=1.7.0 in /usr/local/lib/python3.8/dist-packages (from gensim) (1.10.1)\n",
            "Requirement already satisfied: numpy>=1.18.5 in /usr/local/lib/python3.8/dist-packages (from gensim) (1.22.4)\n",
            "Requirement already satisfied: pyfume in /usr/local/lib/python3.8/dist-packages (from FuzzyTM>=0.4.0->gensim) (0.2.25)\n",
            "Requirement already satisfied: pandas in /usr/local/lib/python3.8/dist-packages (from FuzzyTM>=0.4.0->gensim) (1.3.5)\n",
            "Requirement already satisfied: python-dateutil>=2.7.3 in /usr/local/lib/python3.8/dist-packages (from pandas->FuzzyTM>=0.4.0->gensim) (2.8.2)\n",
            "Requirement already satisfied: pytz>=2017.3 in /usr/local/lib/python3.8/dist-packages (from pandas->FuzzyTM>=0.4.0->gensim) (2022.7.1)\n",
            "Requirement already satisfied: fst-pso in /usr/local/lib/python3.8/dist-packages (from pyfume->FuzzyTM>=0.4.0->gensim) (1.8.1)\n",
            "Requirement already satisfied: simpful in /usr/local/lib/python3.8/dist-packages (from pyfume->FuzzyTM>=0.4.0->gensim) (2.10.0)\n",
            "Requirement already satisfied: six>=1.5 in /usr/local/lib/python3.8/dist-packages (from python-dateutil>=2.7.3->pandas->FuzzyTM>=0.4.0->gensim) (1.15.0)\n",
            "Requirement already satisfied: miniful in /usr/local/lib/python3.8/dist-packages (from fst-pso->pyfume->FuzzyTM>=0.4.0->gensim) (0.0.6)\n",
            "Requirement already satisfied: requests in /usr/local/lib/python3.8/dist-packages (from simpful->pyfume->FuzzyTM>=0.4.0->gensim) (2.25.1)\n",
            "Requirement already satisfied: urllib3<1.27,>=1.21.1 in /usr/local/lib/python3.8/dist-packages (from requests->simpful->pyfume->FuzzyTM>=0.4.0->gensim) (1.26.14)\n",
            "Requirement already satisfied: certifi>=2017.4.17 in /usr/local/lib/python3.8/dist-packages (from requests->simpful->pyfume->FuzzyTM>=0.4.0->gensim) (2022.12.7)\n",
            "Requirement already satisfied: chardet<5,>=3.0.2 in /usr/local/lib/python3.8/dist-packages (from requests->simpful->pyfume->FuzzyTM>=0.4.0->gensim) (4.0.0)\n",
            "Requirement already satisfied: idna<3,>=2.5 in /usr/local/lib/python3.8/dist-packages (from requests->simpful->pyfume->FuzzyTM>=0.4.0->gensim) (2.10)\n"
          ]
        }
      ]
    },
    {
      "cell_type": "code",
      "execution_count": null,
      "metadata": {
        "colab": {
          "base_uri": "https://localhost:8080/"
        },
        "id": "tortgYf6uYyH",
        "outputId": "7ad68084-6d33-411c-aacc-f03bf5237097"
      },
      "outputs": [
        {
          "output_type": "stream",
          "name": "stderr",
          "text": [
            "[nltk_data] Downloading package stopwords to /root/nltk_data...\n",
            "[nltk_data]   Package stopwords is already up-to-date!\n"
          ]
        },
        {
          "output_type": "execute_result",
          "data": {
            "text/plain": [
              "True"
            ]
          },
          "metadata": {},
          "execution_count": 3
        }
      ],
      "source": [
        "import re\n",
        "import nltk\n",
        "import numpy as np\n",
        "import pandas as pd\n",
        "from tqdm import tqdm_notebook\n",
        "from ast import literal_eval\n",
        "from pymystem3 import Mystem\n",
        "from string import punctuation\n",
        "from nltk.corpus import stopwords\n",
        "from nltk.tokenize import word_tokenize\n",
        "from gensim.models.doc2vec import Doc2Vec, TaggedDocument\n",
        "\n",
        "import warnings\n",
        "warnings.filterwarnings('ignore')\n",
        "\n",
        "# download stop words beforehand\n",
        "nltk.download('stopwords')\n"
      ]
    },
    {
      "cell_type": "markdown",
      "metadata": {
        "id": "njg3sI5huYyI"
      },
      "source": [
        "## 1.1. Helper functions to avoid copypaste"
      ]
    },
    {
      "cell_type": "code",
      "execution_count": null,
      "metadata": {
        "id": "sJB5Bxy6uYyJ"
      },
      "outputs": [],
      "source": [
        "def read_csv_from_gdrive(url):\n",
        "    \"\"\"\n",
        "    gets csv data from a given url (taken from file -> share -> copy link)\n",
        "    :url: example https://drive.google.com/file/d/1BlZfCLLs5A13tbNSJZ1GPkHLWQOnPlE4/view?usp=share_link\n",
        "    \"\"\"\n",
        "    file_id = url.split('/')[-2]\n",
        "    file_path = 'https://drive.google.com/uc?export=download&id=' + file_id\n",
        "    data = pd.read_csv(file_path)\n",
        "\n",
        "    return data"
      ]
    },
    {
      "cell_type": "code",
      "execution_count": null,
      "metadata": {
        "id": "FApHdyjxuYyJ"
      },
      "outputs": [],
      "source": [
        "# init lemmatizer to avoid slow performance\n",
        "mystem = Mystem() \n",
        "\n",
        "def word_tokenize_clean(doc: str, stop_words: list):\n",
        "    '''\n",
        "    tokenize from string to list of words\n",
        "    '''\n",
        "\n",
        "    # split into lower case word tokens \\w lemmatization\n",
        "    tokens = list(set(mystem.lemmatize(doc.lower())))\n",
        "  \n",
        "    # remove tokens that are not alphabetic (including punctuation) and not a stop word\n",
        "    tokens = [word for word in tokens if word.isalpha() and not word in stop_words \\\n",
        "              not in list(punctuation)]\n",
        "    return tokens"
      ]
    },
    {
      "cell_type": "markdown",
      "metadata": {
        "id": "yOTFE6BquYyK"
      },
      "source": [
        "# 2. Main"
      ]
    },
    {
      "cell_type": "markdown",
      "metadata": {
        "id": "ZM_n7tu5uYyL"
      },
      "source": [
        "## 2.1. Data Preparation"
      ]
    },
    {
      "cell_type": "code",
      "execution_count": null,
      "metadata": {
        "colab": {
          "base_uri": "https://localhost:8080/",
          "height": 515
        },
        "id": "jFMch6CYuYyL",
        "outputId": "0d4fc77d-6ccb-4f09-d837-1a52bc809fc5"
      },
      "outputs": [
        {
          "output_type": "execute_result",
          "data": {
            "text/plain": [
              "   adult                              belongs_to_collection    budget  \\\n",
              "0  False  {'id': 10194, 'name': 'Toy Story Collection', ...  30000000   \n",
              "1  False                                                NaN  65000000   \n",
              "2  False  {'id': 119050, 'name': 'Grumpy Old Men Collect...         0   \n",
              "\n",
              "                                              genres  \\\n",
              "0  [{'id': 16, 'name': 'Animation'}, {'id': 35, '...   \n",
              "1  [{'id': 12, 'name': 'Adventure'}, {'id': 14, '...   \n",
              "2  [{'id': 10749, 'name': 'Romance'}, {'id': 35, ...   \n",
              "\n",
              "                               homepage     id    imdb_id original_language  \\\n",
              "0  http://toystory.disney.com/toy-story    862  tt0114709                en   \n",
              "1                                   NaN   8844  tt0113497                en   \n",
              "2                                   NaN  15602  tt0113228                en   \n",
              "\n",
              "     original_title                                           overview  ...  \\\n",
              "0         Toy Story  Led by Woody, Andy's toys live happily in his ...  ...   \n",
              "1           Jumanji  When siblings Judy and Peter discover an encha...  ...   \n",
              "2  Grumpier Old Men  A family wedding reignites the ancient feud be...  ...   \n",
              "\n",
              "  release_date      revenue runtime  \\\n",
              "0   1995-10-30  373554033.0    81.0   \n",
              "1   1995-12-15  262797249.0   104.0   \n",
              "2   1995-12-22          0.0   101.0   \n",
              "\n",
              "                                    spoken_languages    status  \\\n",
              "0           [{'iso_639_1': 'en', 'name': 'English'}]  Released   \n",
              "1  [{'iso_639_1': 'en', 'name': 'English'}, {'iso...  Released   \n",
              "2           [{'iso_639_1': 'en', 'name': 'English'}]  Released   \n",
              "\n",
              "                                             tagline             title  video  \\\n",
              "0                                                NaN         Toy Story  False   \n",
              "1          Roll the dice and unleash the excitement!           Jumanji  False   \n",
              "2  Still Yelling. Still Fighting. Still Ready for...  Grumpier Old Men  False   \n",
              "\n",
              "  vote_average vote_count  \n",
              "0          7.7     5415.0  \n",
              "1          6.9     2413.0  \n",
              "2          6.5       92.0  \n",
              "\n",
              "[3 rows x 24 columns]"
            ],
            "text/html": [
              "\n",
              "  <div id=\"df-f07d36dd-4033-4a9f-a0f7-3121ba75b119\">\n",
              "    <div class=\"colab-df-container\">\n",
              "      <div>\n",
              "<style scoped>\n",
              "    .dataframe tbody tr th:only-of-type {\n",
              "        vertical-align: middle;\n",
              "    }\n",
              "\n",
              "    .dataframe tbody tr th {\n",
              "        vertical-align: top;\n",
              "    }\n",
              "\n",
              "    .dataframe thead th {\n",
              "        text-align: right;\n",
              "    }\n",
              "</style>\n",
              "<table border=\"1\" class=\"dataframe\">\n",
              "  <thead>\n",
              "    <tr style=\"text-align: right;\">\n",
              "      <th></th>\n",
              "      <th>adult</th>\n",
              "      <th>belongs_to_collection</th>\n",
              "      <th>budget</th>\n",
              "      <th>genres</th>\n",
              "      <th>homepage</th>\n",
              "      <th>id</th>\n",
              "      <th>imdb_id</th>\n",
              "      <th>original_language</th>\n",
              "      <th>original_title</th>\n",
              "      <th>overview</th>\n",
              "      <th>...</th>\n",
              "      <th>release_date</th>\n",
              "      <th>revenue</th>\n",
              "      <th>runtime</th>\n",
              "      <th>spoken_languages</th>\n",
              "      <th>status</th>\n",
              "      <th>tagline</th>\n",
              "      <th>title</th>\n",
              "      <th>video</th>\n",
              "      <th>vote_average</th>\n",
              "      <th>vote_count</th>\n",
              "    </tr>\n",
              "  </thead>\n",
              "  <tbody>\n",
              "    <tr>\n",
              "      <th>0</th>\n",
              "      <td>False</td>\n",
              "      <td>{'id': 10194, 'name': 'Toy Story Collection', ...</td>\n",
              "      <td>30000000</td>\n",
              "      <td>[{'id': 16, 'name': 'Animation'}, {'id': 35, '...</td>\n",
              "      <td>http://toystory.disney.com/toy-story</td>\n",
              "      <td>862</td>\n",
              "      <td>tt0114709</td>\n",
              "      <td>en</td>\n",
              "      <td>Toy Story</td>\n",
              "      <td>Led by Woody, Andy's toys live happily in his ...</td>\n",
              "      <td>...</td>\n",
              "      <td>1995-10-30</td>\n",
              "      <td>373554033.0</td>\n",
              "      <td>81.0</td>\n",
              "      <td>[{'iso_639_1': 'en', 'name': 'English'}]</td>\n",
              "      <td>Released</td>\n",
              "      <td>NaN</td>\n",
              "      <td>Toy Story</td>\n",
              "      <td>False</td>\n",
              "      <td>7.7</td>\n",
              "      <td>5415.0</td>\n",
              "    </tr>\n",
              "    <tr>\n",
              "      <th>1</th>\n",
              "      <td>False</td>\n",
              "      <td>NaN</td>\n",
              "      <td>65000000</td>\n",
              "      <td>[{'id': 12, 'name': 'Adventure'}, {'id': 14, '...</td>\n",
              "      <td>NaN</td>\n",
              "      <td>8844</td>\n",
              "      <td>tt0113497</td>\n",
              "      <td>en</td>\n",
              "      <td>Jumanji</td>\n",
              "      <td>When siblings Judy and Peter discover an encha...</td>\n",
              "      <td>...</td>\n",
              "      <td>1995-12-15</td>\n",
              "      <td>262797249.0</td>\n",
              "      <td>104.0</td>\n",
              "      <td>[{'iso_639_1': 'en', 'name': 'English'}, {'iso...</td>\n",
              "      <td>Released</td>\n",
              "      <td>Roll the dice and unleash the excitement!</td>\n",
              "      <td>Jumanji</td>\n",
              "      <td>False</td>\n",
              "      <td>6.9</td>\n",
              "      <td>2413.0</td>\n",
              "    </tr>\n",
              "    <tr>\n",
              "      <th>2</th>\n",
              "      <td>False</td>\n",
              "      <td>{'id': 119050, 'name': 'Grumpy Old Men Collect...</td>\n",
              "      <td>0</td>\n",
              "      <td>[{'id': 10749, 'name': 'Romance'}, {'id': 35, ...</td>\n",
              "      <td>NaN</td>\n",
              "      <td>15602</td>\n",
              "      <td>tt0113228</td>\n",
              "      <td>en</td>\n",
              "      <td>Grumpier Old Men</td>\n",
              "      <td>A family wedding reignites the ancient feud be...</td>\n",
              "      <td>...</td>\n",
              "      <td>1995-12-22</td>\n",
              "      <td>0.0</td>\n",
              "      <td>101.0</td>\n",
              "      <td>[{'iso_639_1': 'en', 'name': 'English'}]</td>\n",
              "      <td>Released</td>\n",
              "      <td>Still Yelling. Still Fighting. Still Ready for...</td>\n",
              "      <td>Grumpier Old Men</td>\n",
              "      <td>False</td>\n",
              "      <td>6.5</td>\n",
              "      <td>92.0</td>\n",
              "    </tr>\n",
              "  </tbody>\n",
              "</table>\n",
              "<p>3 rows × 24 columns</p>\n",
              "</div>\n",
              "      <button class=\"colab-df-convert\" onclick=\"convertToInteractive('df-f07d36dd-4033-4a9f-a0f7-3121ba75b119')\"\n",
              "              title=\"Convert this dataframe to an interactive table.\"\n",
              "              style=\"display:none;\">\n",
              "        \n",
              "  <svg xmlns=\"http://www.w3.org/2000/svg\" height=\"24px\"viewBox=\"0 0 24 24\"\n",
              "       width=\"24px\">\n",
              "    <path d=\"M0 0h24v24H0V0z\" fill=\"none\"/>\n",
              "    <path d=\"M18.56 5.44l.94 2.06.94-2.06 2.06-.94-2.06-.94-.94-2.06-.94 2.06-2.06.94zm-11 1L8.5 8.5l.94-2.06 2.06-.94-2.06-.94L8.5 2.5l-.94 2.06-2.06.94zm10 10l.94 2.06.94-2.06 2.06-.94-2.06-.94-.94-2.06-.94 2.06-2.06.94z\"/><path d=\"M17.41 7.96l-1.37-1.37c-.4-.4-.92-.59-1.43-.59-.52 0-1.04.2-1.43.59L10.3 9.45l-7.72 7.72c-.78.78-.78 2.05 0 2.83L4 21.41c.39.39.9.59 1.41.59.51 0 1.02-.2 1.41-.59l7.78-7.78 2.81-2.81c.8-.78.8-2.07 0-2.86zM5.41 20L4 18.59l7.72-7.72 1.47 1.35L5.41 20z\"/>\n",
              "  </svg>\n",
              "      </button>\n",
              "      \n",
              "  <style>\n",
              "    .colab-df-container {\n",
              "      display:flex;\n",
              "      flex-wrap:wrap;\n",
              "      gap: 12px;\n",
              "    }\n",
              "\n",
              "    .colab-df-convert {\n",
              "      background-color: #E8F0FE;\n",
              "      border: none;\n",
              "      border-radius: 50%;\n",
              "      cursor: pointer;\n",
              "      display: none;\n",
              "      fill: #1967D2;\n",
              "      height: 32px;\n",
              "      padding: 0 0 0 0;\n",
              "      width: 32px;\n",
              "    }\n",
              "\n",
              "    .colab-df-convert:hover {\n",
              "      background-color: #E2EBFA;\n",
              "      box-shadow: 0px 1px 2px rgba(60, 64, 67, 0.3), 0px 1px 3px 1px rgba(60, 64, 67, 0.15);\n",
              "      fill: #174EA6;\n",
              "    }\n",
              "\n",
              "    [theme=dark] .colab-df-convert {\n",
              "      background-color: #3B4455;\n",
              "      fill: #D2E3FC;\n",
              "    }\n",
              "\n",
              "    [theme=dark] .colab-df-convert:hover {\n",
              "      background-color: #434B5C;\n",
              "      box-shadow: 0px 1px 3px 1px rgba(0, 0, 0, 0.15);\n",
              "      filter: drop-shadow(0px 1px 2px rgba(0, 0, 0, 0.3));\n",
              "      fill: #FFFFFF;\n",
              "    }\n",
              "  </style>\n",
              "\n",
              "      <script>\n",
              "        const buttonEl =\n",
              "          document.querySelector('#df-f07d36dd-4033-4a9f-a0f7-3121ba75b119 button.colab-df-convert');\n",
              "        buttonEl.style.display =\n",
              "          google.colab.kernel.accessAllowed ? 'block' : 'none';\n",
              "\n",
              "        async function convertToInteractive(key) {\n",
              "          const element = document.querySelector('#df-f07d36dd-4033-4a9f-a0f7-3121ba75b119');\n",
              "          const dataTable =\n",
              "            await google.colab.kernel.invokeFunction('convertToInteractive',\n",
              "                                                     [key], {});\n",
              "          if (!dataTable) return;\n",
              "\n",
              "          const docLinkHtml = 'Like what you see? Visit the ' +\n",
              "            '<a target=\"_blank\" href=https://colab.research.google.com/notebooks/data_table.ipynb>data table notebook</a>'\n",
              "            + ' to learn more about interactive tables.';\n",
              "          element.innerHTML = '';\n",
              "          dataTable['output_type'] = 'display_data';\n",
              "          await google.colab.output.renderOutput(dataTable, element);\n",
              "          const docLink = document.createElement('div');\n",
              "          docLink.innerHTML = docLinkHtml;\n",
              "          element.appendChild(docLink);\n",
              "        }\n",
              "      </script>\n",
              "    </div>\n",
              "  </div>\n",
              "  "
            ]
          },
          "metadata": {},
          "execution_count": 6
        }
      ],
      "source": [
        "# read csv information about films etc\n",
        "movies_metadata = read_csv_from_gdrive(MOVIES_METADATA_URL)\n",
        "movies_metadata.head(3)"
      ]
    },
    {
      "cell_type": "code",
      "execution_count": null,
      "metadata": {
        "colab": {
          "base_uri": "https://localhost:8080/"
        },
        "id": "4WSRojJ3uYyM",
        "outputId": "102e3c7d-198e-4906-8346-236b29717c44"
      },
      "outputs": [
        {
          "output_type": "execute_result",
          "data": {
            "text/plain": [
              "Index(['adult', 'belongs_to_collection', 'budget', 'genres', 'homepage', 'id',\n",
              "       'imdb_id', 'original_language', 'original_title', 'overview',\n",
              "       'popularity', 'poster_path', 'production_companies',\n",
              "       'production_countries', 'release_date', 'revenue', 'runtime',\n",
              "       'spoken_languages', 'status', 'tagline', 'title', 'video',\n",
              "       'vote_average', 'vote_count'],\n",
              "      dtype='object')"
            ]
          },
          "metadata": {},
          "execution_count": 7
        }
      ],
      "source": [
        "# let's see what columns we have\n",
        "movies_metadata.columns"
      ]
    },
    {
      "cell_type": "markdown",
      "metadata": {
        "id": "MtibkcP9uYyM"
      },
      "source": [
        "To get accurate results we need to preprocess text a bit. The pipeline will be as follows:\n",
        "\n",
        "- Filter only necessary columns from movies_metadada : id, original_title, overview;\n",
        "- Define `model_index` for model to match back with `id` column;\n",
        "- Text cleaning: removing stopwords & punctuation, lemmatization for further tokenization and tagged document creatin required for gensim.Doc2Vec"
      ]
    },
    {
      "cell_type": "code",
      "execution_count": null,
      "metadata": {
        "colab": {
          "base_uri": "https://localhost:8080/"
        },
        "id": "Vl-w1J-quYyN",
        "outputId": "d01b1d3b-0c82-4456-ee3f-3ba2f9f326a0"
      },
      "outputs": [
        {
          "output_type": "stream",
          "name": "stdout",
          "text": [
            "<class 'pandas.core.frame.DataFrame'>\n",
            "RangeIndex: 45466 entries, 0 to 45465\n",
            "Data columns (total 6 columns):\n",
            " #   Column             Non-Null Count  Dtype \n",
            "---  ------             --------------  ----- \n",
            " 0   id                 45466 non-null  object\n",
            " 1   original_title     45466 non-null  object\n",
            " 2   overview           44512 non-null  object\n",
            " 3   original_language  45455 non-null  object\n",
            " 4   adult              45466 non-null  object\n",
            " 5   popularity         45461 non-null  object\n",
            "dtypes: object(6)\n",
            "memory usage: 2.1+ MB\n"
          ]
        }
      ],
      "source": [
        "# filter cols\n",
        "sample = movies_metadata[['id', 'original_title', 'overview', 'original_language', 'adult', 'popularity']].copy()\n",
        "sample.info()"
      ]
    },
    {
      "cell_type": "code",
      "execution_count": null,
      "metadata": {
        "colab": {
          "base_uri": "https://localhost:8080/"
        },
        "id": "wYLImL03uYyN",
        "outputId": "836569b5-82a2-4e20-cdb0-a7817f293028"
      },
      "outputs": [
        {
          "output_type": "execute_result",
          "data": {
            "text/plain": [
              "id                    0\n",
              "original_title        0\n",
              "overview              0\n",
              "original_language    11\n",
              "adult                 0\n",
              "popularity            5\n",
              "dtype: int64"
            ]
          },
          "metadata": {},
          "execution_count": 9
        }
      ],
      "source": [
        "# as you see from above, we have missing overview in some cases -- let's fill it with the original title\n",
        "sample.loc[sample['overview'].isnull(), 'overview'] = sample.loc[sample['overview'].isnull(), 'original_title']\n",
        "sample.isnull().sum()"
      ]
    },
    {
      "cell_type": "code",
      "execution_count": null,
      "metadata": {
        "id": "dGc4-jb_uYyO"
      },
      "outputs": [],
      "source": [
        "# define model_index and make it as string\n",
        "sample = sample.reset_index().rename(columns = {'index': 'model_index'})\n",
        "sample['model_index'] = sample['model_index'].astype(str)"
      ]
    },
    {
      "cell_type": "code",
      "source": [
        "sample"
      ],
      "metadata": {
        "colab": {
          "base_uri": "https://localhost:8080/",
          "height": 424
        },
        "id": "hi1Fe4g_xKiI",
        "outputId": "00f4c74e-eb2d-46bc-c019-93b18a673688"
      },
      "execution_count": null,
      "outputs": [
        {
          "output_type": "execute_result",
          "data": {
            "text/plain": [
              "      model_index      id               original_title  \\\n",
              "0               0     862                    Toy Story   \n",
              "1               1    8844                      Jumanji   \n",
              "2               2   15602             Grumpier Old Men   \n",
              "3               3   31357            Waiting to Exhale   \n",
              "4               4   11862  Father of the Bride Part II   \n",
              "...           ...     ...                          ...   \n",
              "45461       45461  439050                      رگ خواب   \n",
              "45462       45462  111109          Siglo ng Pagluluwal   \n",
              "45463       45463   67758                     Betrayal   \n",
              "45464       45464  227506          Satana likuyushchiy   \n",
              "45465       45465  461257                     Queerama   \n",
              "\n",
              "                                                overview original_language  \\\n",
              "0      Led by Woody, Andy's toys live happily in his ...                en   \n",
              "1      When siblings Judy and Peter discover an encha...                en   \n",
              "2      A family wedding reignites the ancient feud be...                en   \n",
              "3      Cheated on, mistreated and stepped on, the wom...                en   \n",
              "4      Just when George Banks has recovered from his ...                en   \n",
              "...                                                  ...               ...   \n",
              "45461        Rising and falling between a man and woman.                fa   \n",
              "45462  An artist struggles to finish his work while a...                tl   \n",
              "45463  When one of her hits goes wrong, a professiona...                en   \n",
              "45464  In a small town live two brothers, one a minis...                en   \n",
              "45465  50 years after decriminalisation of homosexual...                en   \n",
              "\n",
              "       adult popularity  \n",
              "0      False  21.946943  \n",
              "1      False  17.015539  \n",
              "2      False    11.7129  \n",
              "3      False   3.859495  \n",
              "4      False   8.387519  \n",
              "...      ...        ...  \n",
              "45461  False   0.072051  \n",
              "45462  False   0.178241  \n",
              "45463  False   0.903007  \n",
              "45464  False   0.003503  \n",
              "45465  False   0.163015  \n",
              "\n",
              "[45466 rows x 7 columns]"
            ],
            "text/html": [
              "\n",
              "  <div id=\"df-050d9350-f5d3-462a-9e94-022776fa7f70\">\n",
              "    <div class=\"colab-df-container\">\n",
              "      <div>\n",
              "<style scoped>\n",
              "    .dataframe tbody tr th:only-of-type {\n",
              "        vertical-align: middle;\n",
              "    }\n",
              "\n",
              "    .dataframe tbody tr th {\n",
              "        vertical-align: top;\n",
              "    }\n",
              "\n",
              "    .dataframe thead th {\n",
              "        text-align: right;\n",
              "    }\n",
              "</style>\n",
              "<table border=\"1\" class=\"dataframe\">\n",
              "  <thead>\n",
              "    <tr style=\"text-align: right;\">\n",
              "      <th></th>\n",
              "      <th>model_index</th>\n",
              "      <th>id</th>\n",
              "      <th>original_title</th>\n",
              "      <th>overview</th>\n",
              "      <th>original_language</th>\n",
              "      <th>adult</th>\n",
              "      <th>popularity</th>\n",
              "    </tr>\n",
              "  </thead>\n",
              "  <tbody>\n",
              "    <tr>\n",
              "      <th>0</th>\n",
              "      <td>0</td>\n",
              "      <td>862</td>\n",
              "      <td>Toy Story</td>\n",
              "      <td>Led by Woody, Andy's toys live happily in his ...</td>\n",
              "      <td>en</td>\n",
              "      <td>False</td>\n",
              "      <td>21.946943</td>\n",
              "    </tr>\n",
              "    <tr>\n",
              "      <th>1</th>\n",
              "      <td>1</td>\n",
              "      <td>8844</td>\n",
              "      <td>Jumanji</td>\n",
              "      <td>When siblings Judy and Peter discover an encha...</td>\n",
              "      <td>en</td>\n",
              "      <td>False</td>\n",
              "      <td>17.015539</td>\n",
              "    </tr>\n",
              "    <tr>\n",
              "      <th>2</th>\n",
              "      <td>2</td>\n",
              "      <td>15602</td>\n",
              "      <td>Grumpier Old Men</td>\n",
              "      <td>A family wedding reignites the ancient feud be...</td>\n",
              "      <td>en</td>\n",
              "      <td>False</td>\n",
              "      <td>11.7129</td>\n",
              "    </tr>\n",
              "    <tr>\n",
              "      <th>3</th>\n",
              "      <td>3</td>\n",
              "      <td>31357</td>\n",
              "      <td>Waiting to Exhale</td>\n",
              "      <td>Cheated on, mistreated and stepped on, the wom...</td>\n",
              "      <td>en</td>\n",
              "      <td>False</td>\n",
              "      <td>3.859495</td>\n",
              "    </tr>\n",
              "    <tr>\n",
              "      <th>4</th>\n",
              "      <td>4</td>\n",
              "      <td>11862</td>\n",
              "      <td>Father of the Bride Part II</td>\n",
              "      <td>Just when George Banks has recovered from his ...</td>\n",
              "      <td>en</td>\n",
              "      <td>False</td>\n",
              "      <td>8.387519</td>\n",
              "    </tr>\n",
              "    <tr>\n",
              "      <th>...</th>\n",
              "      <td>...</td>\n",
              "      <td>...</td>\n",
              "      <td>...</td>\n",
              "      <td>...</td>\n",
              "      <td>...</td>\n",
              "      <td>...</td>\n",
              "      <td>...</td>\n",
              "    </tr>\n",
              "    <tr>\n",
              "      <th>45461</th>\n",
              "      <td>45461</td>\n",
              "      <td>439050</td>\n",
              "      <td>رگ خواب</td>\n",
              "      <td>Rising and falling between a man and woman.</td>\n",
              "      <td>fa</td>\n",
              "      <td>False</td>\n",
              "      <td>0.072051</td>\n",
              "    </tr>\n",
              "    <tr>\n",
              "      <th>45462</th>\n",
              "      <td>45462</td>\n",
              "      <td>111109</td>\n",
              "      <td>Siglo ng Pagluluwal</td>\n",
              "      <td>An artist struggles to finish his work while a...</td>\n",
              "      <td>tl</td>\n",
              "      <td>False</td>\n",
              "      <td>0.178241</td>\n",
              "    </tr>\n",
              "    <tr>\n",
              "      <th>45463</th>\n",
              "      <td>45463</td>\n",
              "      <td>67758</td>\n",
              "      <td>Betrayal</td>\n",
              "      <td>When one of her hits goes wrong, a professiona...</td>\n",
              "      <td>en</td>\n",
              "      <td>False</td>\n",
              "      <td>0.903007</td>\n",
              "    </tr>\n",
              "    <tr>\n",
              "      <th>45464</th>\n",
              "      <td>45464</td>\n",
              "      <td>227506</td>\n",
              "      <td>Satana likuyushchiy</td>\n",
              "      <td>In a small town live two brothers, one a minis...</td>\n",
              "      <td>en</td>\n",
              "      <td>False</td>\n",
              "      <td>0.003503</td>\n",
              "    </tr>\n",
              "    <tr>\n",
              "      <th>45465</th>\n",
              "      <td>45465</td>\n",
              "      <td>461257</td>\n",
              "      <td>Queerama</td>\n",
              "      <td>50 years after decriminalisation of homosexual...</td>\n",
              "      <td>en</td>\n",
              "      <td>False</td>\n",
              "      <td>0.163015</td>\n",
              "    </tr>\n",
              "  </tbody>\n",
              "</table>\n",
              "<p>45466 rows × 7 columns</p>\n",
              "</div>\n",
              "      <button class=\"colab-df-convert\" onclick=\"convertToInteractive('df-050d9350-f5d3-462a-9e94-022776fa7f70')\"\n",
              "              title=\"Convert this dataframe to an interactive table.\"\n",
              "              style=\"display:none;\">\n",
              "        \n",
              "  <svg xmlns=\"http://www.w3.org/2000/svg\" height=\"24px\"viewBox=\"0 0 24 24\"\n",
              "       width=\"24px\">\n",
              "    <path d=\"M0 0h24v24H0V0z\" fill=\"none\"/>\n",
              "    <path d=\"M18.56 5.44l.94 2.06.94-2.06 2.06-.94-2.06-.94-.94-2.06-.94 2.06-2.06.94zm-11 1L8.5 8.5l.94-2.06 2.06-.94-2.06-.94L8.5 2.5l-.94 2.06-2.06.94zm10 10l.94 2.06.94-2.06 2.06-.94-2.06-.94-.94-2.06-.94 2.06-2.06.94z\"/><path d=\"M17.41 7.96l-1.37-1.37c-.4-.4-.92-.59-1.43-.59-.52 0-1.04.2-1.43.59L10.3 9.45l-7.72 7.72c-.78.78-.78 2.05 0 2.83L4 21.41c.39.39.9.59 1.41.59.51 0 1.02-.2 1.41-.59l7.78-7.78 2.81-2.81c.8-.78.8-2.07 0-2.86zM5.41 20L4 18.59l7.72-7.72 1.47 1.35L5.41 20z\"/>\n",
              "  </svg>\n",
              "      </button>\n",
              "      \n",
              "  <style>\n",
              "    .colab-df-container {\n",
              "      display:flex;\n",
              "      flex-wrap:wrap;\n",
              "      gap: 12px;\n",
              "    }\n",
              "\n",
              "    .colab-df-convert {\n",
              "      background-color: #E8F0FE;\n",
              "      border: none;\n",
              "      border-radius: 50%;\n",
              "      cursor: pointer;\n",
              "      display: none;\n",
              "      fill: #1967D2;\n",
              "      height: 32px;\n",
              "      padding: 0 0 0 0;\n",
              "      width: 32px;\n",
              "    }\n",
              "\n",
              "    .colab-df-convert:hover {\n",
              "      background-color: #E2EBFA;\n",
              "      box-shadow: 0px 1px 2px rgba(60, 64, 67, 0.3), 0px 1px 3px 1px rgba(60, 64, 67, 0.15);\n",
              "      fill: #174EA6;\n",
              "    }\n",
              "\n",
              "    [theme=dark] .colab-df-convert {\n",
              "      background-color: #3B4455;\n",
              "      fill: #D2E3FC;\n",
              "    }\n",
              "\n",
              "    [theme=dark] .colab-df-convert:hover {\n",
              "      background-color: #434B5C;\n",
              "      box-shadow: 0px 1px 3px 1px rgba(0, 0, 0, 0.15);\n",
              "      filter: drop-shadow(0px 1px 2px rgba(0, 0, 0, 0.3));\n",
              "      fill: #FFFFFF;\n",
              "    }\n",
              "  </style>\n",
              "\n",
              "      <script>\n",
              "        const buttonEl =\n",
              "          document.querySelector('#df-050d9350-f5d3-462a-9e94-022776fa7f70 button.colab-df-convert');\n",
              "        buttonEl.style.display =\n",
              "          google.colab.kernel.accessAllowed ? 'block' : 'none';\n",
              "\n",
              "        async function convertToInteractive(key) {\n",
              "          const element = document.querySelector('#df-050d9350-f5d3-462a-9e94-022776fa7f70');\n",
              "          const dataTable =\n",
              "            await google.colab.kernel.invokeFunction('convertToInteractive',\n",
              "                                                     [key], {});\n",
              "          if (!dataTable) return;\n",
              "\n",
              "          const docLinkHtml = 'Like what you see? Visit the ' +\n",
              "            '<a target=\"_blank\" href=https://colab.research.google.com/notebooks/data_table.ipynb>data table notebook</a>'\n",
              "            + ' to learn more about interactive tables.';\n",
              "          element.innerHTML = '';\n",
              "          dataTable['output_type'] = 'display_data';\n",
              "          await google.colab.output.renderOutput(dataTable, element);\n",
              "          const docLink = document.createElement('div');\n",
              "          docLink.innerHTML = docLinkHtml;\n",
              "          element.appendChild(docLink);\n",
              "        }\n",
              "      </script>\n",
              "    </div>\n",
              "  </div>\n",
              "  "
            ]
          },
          "metadata": {},
          "execution_count": 11
        }
      ]
    },
    {
      "cell_type": "code",
      "execution_count": null,
      "metadata": {
        "id": "hpb8I2YYuYyO"
      },
      "outputs": [],
      "source": [
        "# create mapper with title and model_idnex to use it further in evaluation\n",
        "movies_inv_mapper = dict(zip(sample['original_title'].str.lower(), sample['model_index'].astype(int)))"
      ]
    },
    {
      "cell_type": "code",
      "source": [
        "tags = np.array([str(i) for i in movies_metadata['tagline'].values])\n",
        "tags = np.array([i if i!='nan' else '' for i in tags])\n",
        "tags"
      ],
      "metadata": {
        "colab": {
          "base_uri": "https://localhost:8080/"
        },
        "id": "cdUtUEDn5QtS",
        "outputId": "a137f568-b936-4307-a876-165ac53dab6d"
      },
      "execution_count": null,
      "outputs": [
        {
          "output_type": "execute_result",
          "data": {
            "text/plain": [
              "array(['', 'Roll the dice and unleash the excitement!',\n",
              "       'Still Yelling. Still Fighting. Still Ready for Love.', ...,\n",
              "       'A deadly game of wits.', '', ''], dtype='<U297')"
            ]
          },
          "metadata": {},
          "execution_count": 13
        }
      ]
    },
    {
      "cell_type": "code",
      "execution_count": null,
      "metadata": {
        "colab": {
          "base_uri": "https://localhost:8080/"
        },
        "id": "bizIV-4duYyO",
        "outputId": "61a4d141-0bb8-4f2c-9747-2671fdfccf8f"
      },
      "outputs": [
        {
          "output_type": "execute_result",
          "data": {
            "text/plain": [
              "[\"Led by Woody, Andy's toys live happily in his room until Andy's birthday brings Buzz Lightyear onto the scene. Afraid of losing his place in Andy's heart, Woody plots against Buzz. But when circumstances separate Buzz and Woody from their owner, the duo eventually learns to put aside their differences. Toy Story \"]"
            ]
          },
          "metadata": {},
          "execution_count": 14
        }
      ],
      "source": [
        "# preprocess by removing non-character data, stopwords\n",
        "\n",
        "tags_corpus = sample['overview'].values + np.array([' ']*len(sample)) + sample['original_title'].values + np.array([' ']*len(sample)) +  tags\n",
        "tags_corpus = [re.sub('-[!/()0-9]', '', x) for x in tags_corpus]\n",
        "stop_words = stopwords.words('english')\n",
        "\n",
        "tags_doc = [word_tokenize_clean(description, stop_words) for description in tags_corpus]\n",
        "tags_corpus[:1]"
      ]
    },
    {
      "cell_type": "code",
      "execution_count": null,
      "metadata": {
        "id": "c8bfqxNWuYyP"
      },
      "outputs": [],
      "source": [
        "# prepare data as model input for Word2Vec\n",
        "## it takes some time to execute\n",
        "tags_doc = [TaggedDocument(words = word_tokenize_clean(D, stop_words), tags = [str(i)]) for i, D in enumerate(tags_corpus)]"
      ]
    },
    {
      "cell_type": "code",
      "execution_count": null,
      "metadata": {
        "colab": {
          "base_uri": "https://localhost:8080/"
        },
        "id": "1WFaH15ouYyP",
        "outputId": "29f768eb-e186-4ef7-eb45-f41272fef8cf"
      },
      "outputs": [
        {
          "output_type": "execute_result",
          "data": {
            "text/plain": [
              "[TaggedDocument(words=['birthday', 'learns', 'live', 'losing', 'place', 'toys', 'toy', 'buzz', 'onto', 'duo', 'room', 'put', 'aside', 'story', 'plots', 'circumstances', 'woody', 'scene', 'eventually', 'brings', 'andy', 'heart', 'separate', 'owner', 'led', 'afraid', 'happily', 'differences', 'lightyear'], tags=['0']),\n",
              " TaggedDocument(words=['evil', 'rhinoceroses', 'opens', 'siblings', 'alan', 'trapped', 'peter', 'dice', 'giant', 'judy', 'unleash', 'enchanted', 'room', 'years', 'creatures', 'unwittingly', 'hope', 'running', 'roll', 'board', 'excitement', 'invite', 'game', 'monkeys', 'magical', 'proves', 'three', 'risky', 'find', 'jumanji', 'terrifying', 'discover', 'door', 'living', 'inside', 'world', 'freedom', 'adult', 'finish'], tags=['1']),\n",
              " TaggedDocument(words=['love', 'buddies', 'fishing', 'opens', 'next', 'cooking', 'max', 'fighting', 'men', 'shop', 'fish', 'interested', 'sultry', 'grumpier', 'restaurant', 'reignites', 'less', 'seafood', 'time', 'alarming', 'old', 'local', 'feud', 'bait', 'away', 'divorcée', 'john', 'locals', 'yelling', 'door', 'worry', 'neighbors', 'still', 'hot', 'wedding', 'ancient', 'family', 'ready', 'italian', 'scare', 'meanwhile'], tags=['2']),\n",
              " TaggedDocument(words=['breathe', 'stepped', 'elusive', 'bernie', 'robin', 'waiting', 'break', 'way', 'people', 'confidants', 'determined', 'better', 'let', 'cheated', 'mistreated', 'less', 'friends', 'lovers', 'glo', 'string', 'find', 'stellar', 'never', 'women', 'holding', 'forget', 'man', 'exhale', 'good', 'talk', 'breath', 'vannah'], tags=['3']),\n",
              " TaggedDocument(words=['banks', 'kid', 'home', 'planning', 'arrival', 'father', 'bride', 'ii', 'grandchild', 'back', 'normal', 'george', 'wife', 'news', 'life', 'nina', 'pregnant', 'change', 'recovered', 'plan', 'daughter', 'world', 'part', 'surprise', 'wedding', 'selling', 'like', 'receives', 'expecting'], tags=['4']),\n",
              " TaggedDocument(words=['throughout', 'rest', 'end', 'thief', 'unstable', 'aware', 'leads', 'recognizes', 'mouse', 'notch', 'detective', 'even', 'pursues', 'top', 'los', 'angeles', 'without', 'game', 'various', 'neil', 'though', 'ability', 'crew', 'respects', 'hanna', 'heat', 'saga', 'obsessive', 'man', 'insane', 'vincent', 'violence', 'crime', 'may', 'cat', 'heists', 'dedication', 'mentally', 'mccauley', 'master'], tags=['5']),\n",
              " TaggedDocument(words=['crush', 'brother', 'cordially', 'harbors', 'year', 'ugly', 'remarkable', 'sabrina', 'playboy', 'invited', 'focused', 'duckling', 'change', 'business', 'something', 'undergone', 'say', 'feelings', 'carefree', 'still', 'merger', 'surprising'], tags=['6']),\n",
              " TaggedDocument(words=['boy', 'injun', 'oath', 'choose', 'huck', 'future', 'friendship', 'original', 'becomes', 'joe', 'bad', 'accused', 'friends', 'finn', 'sawyer', 'retrieve', 'honoring', 'young', 'evidence', 'go', 'murder', 'huckleberry', 'trying', 'town', 'adventures', 'several', 'alcoholic', 'deadly', 'family', 'mischievous', 'boys', 'tom', 'witnesses'], tags=['7']),\n",
              " TaggedDocument(words=['stanley', 'dollars', 'demanding', 'championship', 'end', 'damme', 'van', 'drop', 'explosion', 'father', 'cup', 'death', 'terror', 'impending', 'thriller', 'whose', 'sets', 'tension', 'back', 'claude', 'superstar', 'overtime', 'suspense', 'taken', 'portrays', 'goes', 'motion', 'game', 'billion', 'frantically', 'sudden', 'rescue', 'final', 'suddenly', 'buzzer', 'plan', 'international', 'daughter', 'action', 'teams', 'captors', 'hockey', 'set', 'powers', 'jean', 'abort', 'packed', 'boothe'], tags=['8']),\n",
              " TaggedDocument(words=['devastating', 'prevent', 'fears', 'substitutes', 'james', 'britain', 'unmask', 'inflict', 'leader', 'must', 'limits', 'goldeneye', 'system', 'janus', 'bond', 'head', 'revenge', 'syndicate', 'mysterious', 'weapons', 'utilizing'], tags=['9']),\n",
              " TaggedDocument(words=['powerful', 'decimate', 'ratings', 'lobbyist', 'attempts', 'men', 'wild', 'shepherd', 'sydney', 'andrew', 'washington', 'wade', 'courting', 'one', 'wants', 'rumors', 'world', 'president', 'spark', 'ellen', 'u', 'man', 'covets', 'anything', 'american', 'widowed', 'thing', 'approval'], tags=['10']),\n",
              " TaggedDocument(words=['blood', 'van', 'dracula', 'charms', 'joins', 'count', 'vanquish', 'prey', 'helsing', 'search', 'loving', 'vampire', 'shows', 'one', 'able', 'lawyer', 'falls', 'fresh', 'dead', 'dr', 'enter', 'may', 'doorstep'], tags=['11']),\n",
              " TaggedDocument(words=['prevent', 'wolf', 'half', 'outcast', 'ravaging', 'dog', 'alaska', 'balto', 'hero', 'nome', 'life', 'risks', 'part', 'deadly', 'epidemic'], tags=['12']),\n",
              " TaggedDocument(words=['bitter', 'destructive', 'shocking', 'presidency', 'lost', 'troubled', 'end', 'nixon', 'california', 'would', 'epic', 'star', 'scandal', 'richard', 'within', 'self', 'carrying', 'nation', 'cast', 'spanning', 'demands', 'triumphant', 'boyhood', 'world', 'president', 'battling', 'defeat', 'fate', 'man', 'powers', 'american', 'victory', 'look', 'watergate', 'shoulders', 'changed'], tags=['13']),\n",
              " TaggedDocument(words=['slave', 'summon', 'portions', 'yet', 'courage', 'difficult', 'end', 'unfortunately', 'leadership', 'cutthroat', 'adams', 'lifetime', 'held', 'must', 'recover', 'skeptical', 'complete', 'back', 'mutiny', 'treasure', 'shaw', 'three', 'prepare', 'morgan', 'course', 'dawg', 'final', 'uncle', 'crown', 'efforts', 'discover', 'island', 'quest', 'crew', 'abilities', 'raids', 'portion', 'set', 'turning', 'made', 'adventure', 'william', 'weapons', 'map', 'murderous', 'british', 'pirate'], tags=['14']),\n",
              " TaggedDocument(words=['gambling', 'casino', 'underbelly', 'forever', 'paradise', 'mafia', 'dark', 'top', 'life', 'las', 'vegas', 'one', 'stays'], tags=['15']),\n",
              " TaggedDocument(words=['sensibility', 'two', 'leaving', 'lose', 'poor', 'rich', 'second', 'inheritance', 'wife', 'senses', 'heart', 'titular', 'come', 'mr', 'sense', 'dies', 'opposites', 'rules', 'dashwood', 'daughters'], tags=['16']),\n",
              " TaggedDocument(words=['outrageous', 'first', 'lone', 'day', 'job', 'bellhop', 'year', 'place', 'happening', 'four', 'eve', 'room', 'predicaments', 'another', 'hotel', 'scandalous', 'requests', 'life', 'rooms', 'wildest', 'unusual', 'unbelievable', 'one', 'twelve', 'ted', 'seems', 'evening', 'service', 'new', 'guests', 'night', 'serving'], tags=['17']),\n",
              " TaggedDocument(words=['princess', 'warrior', 'animal', 'jungles', 'ashram', 'africa', 'war', 'ace', 'animals', 'must', 'tibet', 'wachootoos', 'perilous', 'ventura', 'calls', 'hair', 'fails', 'nature', 'vicious', 'summoned', 'find', 'result', 'tribal', 'journey', 'missing', 'adventures', 'shikaka', 'sacred', 'friendly', 'wedding', 'new', 'finds', 'tribe', 'prince', 'accomplish', 'wachati'], tags=['18']),\n",
              " TaggedDocument(words=['vengeful', 'trainload', 'steal', 'way', 'get', 'york', 'train', 'transit', 'fellow', 'cop', 'money', 'tries', 'subway', 'protect', 'decides', 'foster', 'fares', 'new', 'brother'], tags=['19'])]"
            ]
          },
          "metadata": {},
          "execution_count": 16
        }
      ],
      "source": [
        "# let's check what do we have\n",
        "## tag = movie index\n",
        "tags_doc[:20]"
      ]
    },
    {
      "cell_type": "markdown",
      "metadata": {
        "id": "mHASm8WkuYyQ"
      },
      "source": [
        "# 2.2. Model Training and Evaluation"
      ]
    },
    {
      "cell_type": "code",
      "execution_count": null,
      "metadata": {
        "id": "uxoQBiUcuYyQ"
      },
      "outputs": [],
      "source": [
        "VEC_SIZE = 50\n",
        "ALPHA = .02\n",
        "MIN_ALPHA = .00025\n",
        "MIN_COUNT = 5\n",
        "EPOCHS = 20"
      ]
    },
    {
      "cell_type": "code",
      "execution_count": null,
      "metadata": {
        "id": "fq90uFWyuYyQ"
      },
      "outputs": [],
      "source": [
        "# initialize\n",
        "model = Doc2Vec(vector_size = VEC_SIZE,\n",
        "                alpha = ALPHA, \n",
        "                min_alpha = MIN_ALPHA,\n",
        "                min_count = MIN_COUNT,\n",
        "                dm = 0)"
      ]
    },
    {
      "cell_type": "code",
      "execution_count": null,
      "metadata": {
        "id": "y6LWi_nPuYyQ"
      },
      "outputs": [],
      "source": [
        "# generate vocab from all tag docs\n",
        "model.build_vocab(tags_doc)"
      ]
    },
    {
      "cell_type": "code",
      "execution_count": null,
      "metadata": {
        "id": "5jlMOXwDuYyQ"
      },
      "outputs": [],
      "source": [
        "# train model\n",
        "model.train(tags_doc,\n",
        "            total_examples = model.corpus_count,\n",
        "            epochs = EPOCHS)"
      ]
    },
    {
      "cell_type": "markdown",
      "metadata": {
        "id": "xgXTSJINuYyR"
      },
      "source": [
        "## 2.3. Evaluate the model"
      ]
    },
    {
      "cell_type": "markdown",
      "metadata": {
        "id": "lBB76Gs0uYyR"
      },
      "source": [
        "Let's assume that we watched movie `batman` and based on that generate recommendation similar to it's description.\n",
        "\n",
        "To do that we need\n",
        "- To extract movie id from `movies_inv_mapper` we created to map back titles from model output\n",
        "- Load embeddings from trained model\n",
        "- Use built-in most_similar() method to get most relevant recommendations based on film embedding\n",
        "- Finally, map title names for sense-check"
      ]
    },
    {
      "cell_type": "code",
      "execution_count": null,
      "metadata": {
        "colab": {
          "base_uri": "https://localhost:8080/"
        },
        "id": "_LcRbSbGuYyR",
        "outputId": "7d606148-c6c7-4d2f-8ef4-060f957fc013"
      },
      "outputs": [
        {
          "output_type": "execute_result",
          "data": {
            "text/plain": [
              "8603"
            ]
          },
          "metadata": {},
          "execution_count": 21
        }
      ],
      "source": [
        "# get id\n",
        "movie_id = movies_inv_mapper['batman']\n",
        "movie_id"
      ]
    },
    {
      "cell_type": "code",
      "execution_count": null,
      "metadata": {
        "colab": {
          "base_uri": "https://localhost:8080/"
        },
        "id": "rDSS5MV6uYyR",
        "outputId": "50c45a0c-dec8-40e8-f817-9ab27cf1632a"
      },
      "outputs": [
        {
          "output_type": "execute_result",
          "data": {
            "text/plain": [
              "array([[-0.08066847, -0.11840898,  0.30583772, ..., -0.169244  ,\n",
              "         0.00952253,  0.23685479],\n",
              "       [-0.13037713, -0.07162926,  0.17164114, ..., -0.1553199 ,\n",
              "        -0.07802766,  0.44097736],\n",
              "       [-0.14854369,  0.07709081,  0.19036986, ..., -0.16535379,\n",
              "        -0.17498195,  0.2623563 ],\n",
              "       ...,\n",
              "       [-0.12904671, -0.08846789,  0.43047363, ..., -0.08397269,\n",
              "        -0.06311078,  0.6128824 ],\n",
              "       [-0.29606798, -0.02531263,  0.24266902, ..., -0.34641913,\n",
              "        -0.10345224,  0.36114982],\n",
              "       [-0.22314689, -0.2074464 ,  0.27238545, ..., -0.11186089,\n",
              "        -0.09256724,  0.24590881]], dtype=float32)"
            ]
          },
          "metadata": {},
          "execution_count": 22
        }
      ],
      "source": [
        "# load trained embeddings \n",
        "movies_vectors = model.dv.vectors\n",
        "movies_vectors"
      ]
    },
    {
      "cell_type": "code",
      "source": [
        "#!pip install --upgrade gensim"
      ],
      "metadata": {
        "id": "8M1J7AFl1Y9B"
      },
      "execution_count": null,
      "outputs": []
    },
    {
      "cell_type": "code",
      "execution_count": null,
      "metadata": {
        "colab": {
          "base_uri": "https://localhost:8080/"
        },
        "id": "CEQ2zIvSuYyS",
        "outputId": "bec23f63-dced-46f1-c2d0-419f4d6c4344"
      },
      "outputs": [
        {
          "output_type": "execute_result",
          "data": {
            "text/plain": [
              "array([ 0.01159464, -0.17197369,  0.3785113 ,  0.0616589 , -0.00544285,\n",
              "        0.00513547, -0.41354823, -0.06711939, -0.29934242,  0.11619498,\n",
              "       -0.20078968, -0.02065109, -0.01557417, -0.22485283,  0.13435099,\n",
              "       -0.16126536,  0.33281466, -0.2854889 ,  0.18330213, -0.08640375,\n",
              "        0.1742466 ,  0.04733174, -0.04675074,  0.2886501 ,  0.14269209,\n",
              "        0.14868122, -0.16379029, -0.01469782,  0.13937218, -0.3475168 ,\n",
              "        0.017285  ,  0.01484293,  0.00521439,  0.2446612 , -0.22139263,\n",
              "        0.21102558,  0.08118387, -0.07848553,  0.30110788,  0.22230375,\n",
              "        0.14146425,  0.17272075, -0.1655841 ,  0.05479728, -0.11507092,\n",
              "       -0.22961527,  0.01429453,  0.09959841, -0.22818032,  0.40243387],\n",
              "      dtype=float32)"
            ]
          },
          "metadata": {},
          "execution_count": 24
        }
      ],
      "source": [
        "movie_embeddings = movies_vectors[movie_id]\n",
        "movie_embeddings"
      ]
    },
    {
      "cell_type": "code",
      "execution_count": null,
      "metadata": {
        "colab": {
          "base_uri": "https://localhost:8080/",
          "height": 206
        },
        "id": "hzqtHGYJuYyS",
        "outputId": "2ae9bdf7-10f1-4a3f-ec90-2786828a34fe"
      },
      "outputs": [
        {
          "output_type": "execute_result",
          "data": {
            "text/plain": [
              "  model_index  model_score\n",
              "0        8603     1.000000\n",
              "1       43461     0.939739\n",
              "2       28148     0.936975\n",
              "3       39104     0.930063\n",
              "4       40652     0.929556"
            ],
            "text/html": [
              "\n",
              "  <div id=\"df-5bbf7ca0-ae40-4f4b-ae3f-ef437124785b\">\n",
              "    <div class=\"colab-df-container\">\n",
              "      <div>\n",
              "<style scoped>\n",
              "    .dataframe tbody tr th:only-of-type {\n",
              "        vertical-align: middle;\n",
              "    }\n",
              "\n",
              "    .dataframe tbody tr th {\n",
              "        vertical-align: top;\n",
              "    }\n",
              "\n",
              "    .dataframe thead th {\n",
              "        text-align: right;\n",
              "    }\n",
              "</style>\n",
              "<table border=\"1\" class=\"dataframe\">\n",
              "  <thead>\n",
              "    <tr style=\"text-align: right;\">\n",
              "      <th></th>\n",
              "      <th>model_index</th>\n",
              "      <th>model_score</th>\n",
              "    </tr>\n",
              "  </thead>\n",
              "  <tbody>\n",
              "    <tr>\n",
              "      <th>0</th>\n",
              "      <td>8603</td>\n",
              "      <td>1.000000</td>\n",
              "    </tr>\n",
              "    <tr>\n",
              "      <th>1</th>\n",
              "      <td>43461</td>\n",
              "      <td>0.939739</td>\n",
              "    </tr>\n",
              "    <tr>\n",
              "      <th>2</th>\n",
              "      <td>28148</td>\n",
              "      <td>0.936975</td>\n",
              "    </tr>\n",
              "    <tr>\n",
              "      <th>3</th>\n",
              "      <td>39104</td>\n",
              "      <td>0.930063</td>\n",
              "    </tr>\n",
              "    <tr>\n",
              "      <th>4</th>\n",
              "      <td>40652</td>\n",
              "      <td>0.929556</td>\n",
              "    </tr>\n",
              "  </tbody>\n",
              "</table>\n",
              "</div>\n",
              "      <button class=\"colab-df-convert\" onclick=\"convertToInteractive('df-5bbf7ca0-ae40-4f4b-ae3f-ef437124785b')\"\n",
              "              title=\"Convert this dataframe to an interactive table.\"\n",
              "              style=\"display:none;\">\n",
              "        \n",
              "  <svg xmlns=\"http://www.w3.org/2000/svg\" height=\"24px\"viewBox=\"0 0 24 24\"\n",
              "       width=\"24px\">\n",
              "    <path d=\"M0 0h24v24H0V0z\" fill=\"none\"/>\n",
              "    <path d=\"M18.56 5.44l.94 2.06.94-2.06 2.06-.94-2.06-.94-.94-2.06-.94 2.06-2.06.94zm-11 1L8.5 8.5l.94-2.06 2.06-.94-2.06-.94L8.5 2.5l-.94 2.06-2.06.94zm10 10l.94 2.06.94-2.06 2.06-.94-2.06-.94-.94-2.06-.94 2.06-2.06.94z\"/><path d=\"M17.41 7.96l-1.37-1.37c-.4-.4-.92-.59-1.43-.59-.52 0-1.04.2-1.43.59L10.3 9.45l-7.72 7.72c-.78.78-.78 2.05 0 2.83L4 21.41c.39.39.9.59 1.41.59.51 0 1.02-.2 1.41-.59l7.78-7.78 2.81-2.81c.8-.78.8-2.07 0-2.86zM5.41 20L4 18.59l7.72-7.72 1.47 1.35L5.41 20z\"/>\n",
              "  </svg>\n",
              "      </button>\n",
              "      \n",
              "  <style>\n",
              "    .colab-df-container {\n",
              "      display:flex;\n",
              "      flex-wrap:wrap;\n",
              "      gap: 12px;\n",
              "    }\n",
              "\n",
              "    .colab-df-convert {\n",
              "      background-color: #E8F0FE;\n",
              "      border: none;\n",
              "      border-radius: 50%;\n",
              "      cursor: pointer;\n",
              "      display: none;\n",
              "      fill: #1967D2;\n",
              "      height: 32px;\n",
              "      padding: 0 0 0 0;\n",
              "      width: 32px;\n",
              "    }\n",
              "\n",
              "    .colab-df-convert:hover {\n",
              "      background-color: #E2EBFA;\n",
              "      box-shadow: 0px 1px 2px rgba(60, 64, 67, 0.3), 0px 1px 3px 1px rgba(60, 64, 67, 0.15);\n",
              "      fill: #174EA6;\n",
              "    }\n",
              "\n",
              "    [theme=dark] .colab-df-convert {\n",
              "      background-color: #3B4455;\n",
              "      fill: #D2E3FC;\n",
              "    }\n",
              "\n",
              "    [theme=dark] .colab-df-convert:hover {\n",
              "      background-color: #434B5C;\n",
              "      box-shadow: 0px 1px 3px 1px rgba(0, 0, 0, 0.15);\n",
              "      filter: drop-shadow(0px 1px 2px rgba(0, 0, 0, 0.3));\n",
              "      fill: #FFFFFF;\n",
              "    }\n",
              "  </style>\n",
              "\n",
              "      <script>\n",
              "        const buttonEl =\n",
              "          document.querySelector('#df-5bbf7ca0-ae40-4f4b-ae3f-ef437124785b button.colab-df-convert');\n",
              "        buttonEl.style.display =\n",
              "          google.colab.kernel.accessAllowed ? 'block' : 'none';\n",
              "\n",
              "        async function convertToInteractive(key) {\n",
              "          const element = document.querySelector('#df-5bbf7ca0-ae40-4f4b-ae3f-ef437124785b');\n",
              "          const dataTable =\n",
              "            await google.colab.kernel.invokeFunction('convertToInteractive',\n",
              "                                                     [key], {});\n",
              "          if (!dataTable) return;\n",
              "\n",
              "          const docLinkHtml = 'Like what you see? Visit the ' +\n",
              "            '<a target=\"_blank\" href=https://colab.research.google.com/notebooks/data_table.ipynb>data table notebook</a>'\n",
              "            + ' to learn more about interactive tables.';\n",
              "          element.innerHTML = '';\n",
              "          dataTable['output_type'] = 'display_data';\n",
              "          await google.colab.output.renderOutput(dataTable, element);\n",
              "          const docLink = document.createElement('div');\n",
              "          docLink.innerHTML = docLinkHtml;\n",
              "          element.appendChild(docLink);\n",
              "        }\n",
              "      </script>\n",
              "    </div>\n",
              "  </div>\n",
              "  "
            ]
          },
          "metadata": {},
          "execution_count": 25
        }
      ],
      "source": [
        "# get recommendations\n",
        "similars = model.docvecs.most_similar(positive = [movie_embeddings], topn = 20)\n",
        "output = pd.DataFrame(similars, columns = ['model_index', 'model_score'])\n",
        "output.head()"
      ]
    },
    {
      "cell_type": "code",
      "execution_count": null,
      "metadata": {
        "id": "GbgAWuFNuYyS"
      },
      "outputs": [],
      "source": [
        "# reverse values and indices to map names in dataframe\n",
        "name_mapper = {v: k for k, v in movies_inv_mapper.items()}"
      ]
    },
    {
      "cell_type": "code",
      "execution_count": null,
      "metadata": {
        "id": "Bpg4nNhxuYyS",
        "outputId": "feba915e-6e69-424e-fad0-17548be6fd77",
        "colab": {
          "base_uri": "https://localhost:8080/",
          "height": 677
        }
      },
      "outputs": [
        {
          "output_type": "execute_result",
          "data": {
            "text/plain": [
              "   model_index  model_score                                    title_name\n",
              "0         8603     1.000000                                        batman\n",
              "1        43461     0.939739                                     megafault\n",
              "2        28148     0.936975                                   speed cross\n",
              "3        39104     0.930063   ufos: the best evidence ever caught on tape\n",
              "4        40652     0.929556                           homeless in america\n",
              "5        44339     0.928705                         the underground world\n",
              "6        35181     0.925340                                конек-горбунок\n",
              "7         4199     0.925024                                           NaN\n",
              "8        26806     0.924991                    see here, private hargrove\n",
              "9        37884     0.924889                                        jalopy\n",
              "10       39731     0.924433  veggietales: god wants me to forgive them!?!\n",
              "11       37739     0.924114                    google and the world brain\n",
              "12       18740     0.923522                   caltiki il mostro immortale\n",
              "13       37877     0.921664                              bowery battalion\n",
              "14       28191     0.921332                   jönssonligan dyker upp igen\n",
              "15       37765     0.920966                                remote control\n",
              "16       13460     0.920483                            the pink panther 2\n",
              "17       39972     0.920448                        invaders from the deep\n",
              "18       24836     0.919757                                      deadfall\n",
              "19        3536     0.919679                        quatermass and the pit"
            ],
            "text/html": [
              "\n",
              "  <div id=\"df-f5dd33e2-cdf3-4bc1-9723-5ee181bc9117\">\n",
              "    <div class=\"colab-df-container\">\n",
              "      <div>\n",
              "<style scoped>\n",
              "    .dataframe tbody tr th:only-of-type {\n",
              "        vertical-align: middle;\n",
              "    }\n",
              "\n",
              "    .dataframe tbody tr th {\n",
              "        vertical-align: top;\n",
              "    }\n",
              "\n",
              "    .dataframe thead th {\n",
              "        text-align: right;\n",
              "    }\n",
              "</style>\n",
              "<table border=\"1\" class=\"dataframe\">\n",
              "  <thead>\n",
              "    <tr style=\"text-align: right;\">\n",
              "      <th></th>\n",
              "      <th>model_index</th>\n",
              "      <th>model_score</th>\n",
              "      <th>title_name</th>\n",
              "    </tr>\n",
              "  </thead>\n",
              "  <tbody>\n",
              "    <tr>\n",
              "      <th>0</th>\n",
              "      <td>8603</td>\n",
              "      <td>1.000000</td>\n",
              "      <td>batman</td>\n",
              "    </tr>\n",
              "    <tr>\n",
              "      <th>1</th>\n",
              "      <td>43461</td>\n",
              "      <td>0.939739</td>\n",
              "      <td>megafault</td>\n",
              "    </tr>\n",
              "    <tr>\n",
              "      <th>2</th>\n",
              "      <td>28148</td>\n",
              "      <td>0.936975</td>\n",
              "      <td>speed cross</td>\n",
              "    </tr>\n",
              "    <tr>\n",
              "      <th>3</th>\n",
              "      <td>39104</td>\n",
              "      <td>0.930063</td>\n",
              "      <td>ufos: the best evidence ever caught on tape</td>\n",
              "    </tr>\n",
              "    <tr>\n",
              "      <th>4</th>\n",
              "      <td>40652</td>\n",
              "      <td>0.929556</td>\n",
              "      <td>homeless in america</td>\n",
              "    </tr>\n",
              "    <tr>\n",
              "      <th>5</th>\n",
              "      <td>44339</td>\n",
              "      <td>0.928705</td>\n",
              "      <td>the underground world</td>\n",
              "    </tr>\n",
              "    <tr>\n",
              "      <th>6</th>\n",
              "      <td>35181</td>\n",
              "      <td>0.925340</td>\n",
              "      <td>конек-горбунок</td>\n",
              "    </tr>\n",
              "    <tr>\n",
              "      <th>7</th>\n",
              "      <td>4199</td>\n",
              "      <td>0.925024</td>\n",
              "      <td>NaN</td>\n",
              "    </tr>\n",
              "    <tr>\n",
              "      <th>8</th>\n",
              "      <td>26806</td>\n",
              "      <td>0.924991</td>\n",
              "      <td>see here, private hargrove</td>\n",
              "    </tr>\n",
              "    <tr>\n",
              "      <th>9</th>\n",
              "      <td>37884</td>\n",
              "      <td>0.924889</td>\n",
              "      <td>jalopy</td>\n",
              "    </tr>\n",
              "    <tr>\n",
              "      <th>10</th>\n",
              "      <td>39731</td>\n",
              "      <td>0.924433</td>\n",
              "      <td>veggietales: god wants me to forgive them!?!</td>\n",
              "    </tr>\n",
              "    <tr>\n",
              "      <th>11</th>\n",
              "      <td>37739</td>\n",
              "      <td>0.924114</td>\n",
              "      <td>google and the world brain</td>\n",
              "    </tr>\n",
              "    <tr>\n",
              "      <th>12</th>\n",
              "      <td>18740</td>\n",
              "      <td>0.923522</td>\n",
              "      <td>caltiki il mostro immortale</td>\n",
              "    </tr>\n",
              "    <tr>\n",
              "      <th>13</th>\n",
              "      <td>37877</td>\n",
              "      <td>0.921664</td>\n",
              "      <td>bowery battalion</td>\n",
              "    </tr>\n",
              "    <tr>\n",
              "      <th>14</th>\n",
              "      <td>28191</td>\n",
              "      <td>0.921332</td>\n",
              "      <td>jönssonligan dyker upp igen</td>\n",
              "    </tr>\n",
              "    <tr>\n",
              "      <th>15</th>\n",
              "      <td>37765</td>\n",
              "      <td>0.920966</td>\n",
              "      <td>remote control</td>\n",
              "    </tr>\n",
              "    <tr>\n",
              "      <th>16</th>\n",
              "      <td>13460</td>\n",
              "      <td>0.920483</td>\n",
              "      <td>the pink panther 2</td>\n",
              "    </tr>\n",
              "    <tr>\n",
              "      <th>17</th>\n",
              "      <td>39972</td>\n",
              "      <td>0.920448</td>\n",
              "      <td>invaders from the deep</td>\n",
              "    </tr>\n",
              "    <tr>\n",
              "      <th>18</th>\n",
              "      <td>24836</td>\n",
              "      <td>0.919757</td>\n",
              "      <td>deadfall</td>\n",
              "    </tr>\n",
              "    <tr>\n",
              "      <th>19</th>\n",
              "      <td>3536</td>\n",
              "      <td>0.919679</td>\n",
              "      <td>quatermass and the pit</td>\n",
              "    </tr>\n",
              "  </tbody>\n",
              "</table>\n",
              "</div>\n",
              "      <button class=\"colab-df-convert\" onclick=\"convertToInteractive('df-f5dd33e2-cdf3-4bc1-9723-5ee181bc9117')\"\n",
              "              title=\"Convert this dataframe to an interactive table.\"\n",
              "              style=\"display:none;\">\n",
              "        \n",
              "  <svg xmlns=\"http://www.w3.org/2000/svg\" height=\"24px\"viewBox=\"0 0 24 24\"\n",
              "       width=\"24px\">\n",
              "    <path d=\"M0 0h24v24H0V0z\" fill=\"none\"/>\n",
              "    <path d=\"M18.56 5.44l.94 2.06.94-2.06 2.06-.94-2.06-.94-.94-2.06-.94 2.06-2.06.94zm-11 1L8.5 8.5l.94-2.06 2.06-.94-2.06-.94L8.5 2.5l-.94 2.06-2.06.94zm10 10l.94 2.06.94-2.06 2.06-.94-2.06-.94-.94-2.06-.94 2.06-2.06.94z\"/><path d=\"M17.41 7.96l-1.37-1.37c-.4-.4-.92-.59-1.43-.59-.52 0-1.04.2-1.43.59L10.3 9.45l-7.72 7.72c-.78.78-.78 2.05 0 2.83L4 21.41c.39.39.9.59 1.41.59.51 0 1.02-.2 1.41-.59l7.78-7.78 2.81-2.81c.8-.78.8-2.07 0-2.86zM5.41 20L4 18.59l7.72-7.72 1.47 1.35L5.41 20z\"/>\n",
              "  </svg>\n",
              "      </button>\n",
              "      \n",
              "  <style>\n",
              "    .colab-df-container {\n",
              "      display:flex;\n",
              "      flex-wrap:wrap;\n",
              "      gap: 12px;\n",
              "    }\n",
              "\n",
              "    .colab-df-convert {\n",
              "      background-color: #E8F0FE;\n",
              "      border: none;\n",
              "      border-radius: 50%;\n",
              "      cursor: pointer;\n",
              "      display: none;\n",
              "      fill: #1967D2;\n",
              "      height: 32px;\n",
              "      padding: 0 0 0 0;\n",
              "      width: 32px;\n",
              "    }\n",
              "\n",
              "    .colab-df-convert:hover {\n",
              "      background-color: #E2EBFA;\n",
              "      box-shadow: 0px 1px 2px rgba(60, 64, 67, 0.3), 0px 1px 3px 1px rgba(60, 64, 67, 0.15);\n",
              "      fill: #174EA6;\n",
              "    }\n",
              "\n",
              "    [theme=dark] .colab-df-convert {\n",
              "      background-color: #3B4455;\n",
              "      fill: #D2E3FC;\n",
              "    }\n",
              "\n",
              "    [theme=dark] .colab-df-convert:hover {\n",
              "      background-color: #434B5C;\n",
              "      box-shadow: 0px 1px 3px 1px rgba(0, 0, 0, 0.15);\n",
              "      filter: drop-shadow(0px 1px 2px rgba(0, 0, 0, 0.3));\n",
              "      fill: #FFFFFF;\n",
              "    }\n",
              "  </style>\n",
              "\n",
              "      <script>\n",
              "        const buttonEl =\n",
              "          document.querySelector('#df-f5dd33e2-cdf3-4bc1-9723-5ee181bc9117 button.colab-df-convert');\n",
              "        buttonEl.style.display =\n",
              "          google.colab.kernel.accessAllowed ? 'block' : 'none';\n",
              "\n",
              "        async function convertToInteractive(key) {\n",
              "          const element = document.querySelector('#df-f5dd33e2-cdf3-4bc1-9723-5ee181bc9117');\n",
              "          const dataTable =\n",
              "            await google.colab.kernel.invokeFunction('convertToInteractive',\n",
              "                                                     [key], {});\n",
              "          if (!dataTable) return;\n",
              "\n",
              "          const docLinkHtml = 'Like what you see? Visit the ' +\n",
              "            '<a target=\"_blank\" href=https://colab.research.google.com/notebooks/data_table.ipynb>data table notebook</a>'\n",
              "            + ' to learn more about interactive tables.';\n",
              "          element.innerHTML = '';\n",
              "          dataTable['output_type'] = 'display_data';\n",
              "          await google.colab.output.renderOutput(dataTable, element);\n",
              "          const docLink = document.createElement('div');\n",
              "          docLink.innerHTML = docLinkHtml;\n",
              "          element.appendChild(docLink);\n",
              "        }\n",
              "      </script>\n",
              "    </div>\n",
              "  </div>\n",
              "  "
            ]
          },
          "metadata": {},
          "execution_count": 27
        }
      ],
      "source": [
        "output['title_name'] = output['model_index'].astype(int).map(name_mapper)\n",
        "output"
      ]
    },
    {
      "cell_type": "code",
      "source": [
        "all_names = list(name_mapper.values())\n",
        "names = list(output['title_name'].dropna())\n",
        "batman_vectors = np.array([ movies_vectors[movies_inv_mapper[names[i]]] for i in range(len(names))])"
      ],
      "metadata": {
        "id": "rM9bNWHohN1T"
      },
      "execution_count": null,
      "outputs": []
    },
    {
      "cell_type": "code",
      "source": [
        "#movies_vectors\n",
        "import numpy as np\n",
        "from sklearn.manifold import TSNE \n",
        "\n",
        "vectors_2d = TSNE(n_components=2, learning_rate='auto',\n",
        "                 init='random', metric='cosine', perplexity=4).fit_transform(batman_vectors)"
      ],
      "metadata": {
        "id": "vHoHSZLnd3M7"
      },
      "execution_count": null,
      "outputs": []
    },
    {
      "cell_type": "code",
      "source": [
        "from pandas.io.formats.printing import format_object_attrs\n",
        "import matplotlib.pyplot as plt\n",
        "\n",
        "\n",
        "X, Y = vectors_2d.T\n",
        "plt.figure(figsize=(10,10))\n",
        "plt.scatter(X, Y)\n",
        "\n",
        "for i in range(len(X)):\n",
        "  plt.annotate(names[i], (X[i], Y[i]))\n",
        "\n",
        "x, y = X[0], Y[0]\n",
        "for i in range(1, 3):\n",
        "  plt.plot([x, X[i]], [y, Y[i]], c ='red')"
      ],
      "metadata": {
        "colab": {
          "base_uri": "https://localhost:8080/",
          "height": 592
        },
        "id": "G9EnuJQCe86Q",
        "outputId": "bd87490b-4a9e-440d-ba2f-0e02c601381a"
      },
      "execution_count": null,
      "outputs": [
        {
          "output_type": "display_data",
          "data": {
            "text/plain": [
              "<Figure size 720x720 with 1 Axes>"
            ],
            "image/png": "[encoded data removed]"
          },
          "metadata": {
            "needs_background": "light"
          }
        }
      ]
    },
    {
      "cell_type": "code",
      "source": [
        "def get_recommendations(movie_name, topn = 20):\n",
        "  global movies_vectors, name_mapper\n",
        "  movie_id = movies_inv_mapper[movie_name]\n",
        "  movie_embeddings = movies_vectors[movie_id]\n",
        "  similars = model.docvecs.most_similar(positive = [movie_embeddings], topn = topn+1)\n",
        "  output = pd.DataFrame(similars, columns = ['model_index', 'model_score'])\n",
        "  return  list(output['model_index'].astype(int).map(name_mapper))[1:]\n",
        "\n",
        "get_recommendations('batman')"
      ],
      "metadata": {
        "colab": {
          "base_uri": "https://localhost:8080/"
        },
        "id": "wAuQlF-LnTMc",
        "outputId": "22be4c91-6a47-4546-d244-6f352b4535f0"
      },
      "execution_count": null,
      "outputs": [
        {
          "output_type": "execute_result",
          "data": {
            "text/plain": [
              "['megafault',\n",
              " 'speed cross',\n",
              " 'ufos: the best evidence ever caught on tape',\n",
              " 'homeless in america',\n",
              " 'the underground world',\n",
              " 'конек-горбунок',\n",
              " nan,\n",
              " 'see here, private hargrove',\n",
              " 'jalopy',\n",
              " 'veggietales: god wants me to forgive them!?!',\n",
              " 'google and the world brain',\n",
              " 'caltiki il mostro immortale',\n",
              " 'bowery battalion',\n",
              " 'jönssonligan dyker upp igen',\n",
              " 'remote control',\n",
              " 'the pink panther 2',\n",
              " 'invaders from the deep',\n",
              " 'deadfall',\n",
              " 'quatermass and the pit',\n",
              " 'francesco, giullare di dio']"
            ]
          },
          "metadata": {},
          "execution_count": 99
        }
      ]
    },
    {
      "cell_type": "markdown",
      "metadata": {
        "id": "gqBxUi0ruYyT"
      },
      "source": [
        "# TODO"
      ]
    },
    {
      "cell_type": "markdown",
      "metadata": {
        "id": "yIBRWTFYuYyT"
      },
      "source": [
        "- Add `original_title`, `keywords`, `tagline` and other metadata to train sample and then retrain embeddings;\n",
        "- Make visualization of embeddings with links of films with each other;\n",
        "- Compare results with the embeddings we created in lecture\n",
        "- Write function get_recommendations() which takes arguments we used 2.3., but such that we can use embeddings of several watched films to get recommendations"
      ]
    },
    {
      "cell_type": "markdown",
      "metadata": {
        "id": "Jc2kXPuCuYyT"
      },
      "source": [
        "# Appendix"
      ]
    },
    {
      "cell_type": "markdown",
      "metadata": {
        "id": "KmcixBp6uYyT"
      },
      "source": [
        "Here, we wrap up all pipeline into functions to re-use if needed and it is just prettier to code this way :)"
      ]
    },
    {
      "cell_type": "code",
      "execution_count": null,
      "metadata": {
        "id": "ib7CYxB9uYyT"
      },
      "outputs": [],
      "source": [
        "def get_clean_tags_array(agg_tags: pd.DataFrame,\n",
        "                         text_col = 'tag'):\n",
        "    '''text preprocessing\n",
        "    '''\n",
        "    tags_corpus = agg_tags[text_col].values\n",
        "    tags_corpus = [re.sub('-[!/()0-9]', '', x) for x in tags_corpus]\n",
        "    stop_words = stopwords.words('english')\n",
        "\n",
        "\n",
        "    # preprocess corpus of movie tags before feeding it into Doc2Vec model\n",
        "    tags_doc = [TaggedDocument(words = word_tokenize_clean(D, stop_words), tags = [str(i)]) for i, D in enumerate(tags_corpus)]\n",
        "\n",
        "    return tags_doc\n"
      ]
    },
    {
      "cell_type": "code",
      "execution_count": null,
      "metadata": {
        "id": "OyBeGYnCuYyU"
      },
      "outputs": [],
      "source": [
        "def train_embeddings(tags_doc: np.array,\n",
        "                     epochs = 20,\n",
        "                     vec_size = 50,\n",
        "                     alpha = .02,\n",
        "                     min_alpha =  0.00025,\n",
        "                     min_count = 5,\n",
        "                     save_path: str = None):\n",
        "    \"\"\"\n",
        "    fit doc2vec model to prepared corpus\n",
        "    :tags_doc: result of get_clean_tags_array()\n",
        "    :max_epocs: int\n",
        "    :vec_size: int\n",
        "    :alpha: float\n",
        "    \"\"\"\n",
        "    #initialize\n",
        "    model = Doc2Vec(vector_size = vec_size,\n",
        "                    alpha = alpha, \n",
        "                    min_alpha = min_alpha,\n",
        "                    min_count = min_count,\n",
        "                    dm = 0)\n",
        "    \n",
        "    #generate vocab from all tag docs\n",
        "    model.build_vocab(tags_doc)\n",
        "    \n",
        "    #train model\n",
        "    model.train(tags_doc,\n",
        "                total_examples = model.corpus_count,\n",
        "                epochs = epochs)\n",
        "    \n",
        "    #save model to dir\n",
        "    if save_path:\n",
        "        model.save(f'{save_path}/d2v_model.pkl')\n",
        "    \n",
        "    return model"
      ]
    }
  ],
  "metadata": {
    "kernelspec": {
      "display_name": "base",
      "language": "python",
      "name": "python3"
    },
    "language_info": {
      "codemirror_mode": {
        "name": "ipython",
        "version": 3
      },
      "file_extension": ".py",
      "mimetype": "text/x-python",
      "name": "python",
      "nbconvert_exporter": "python",
      "pygments_lexer": "ipython3",
      "version": "3.9.7"
    },
    "orig_nbformat": 4,
    "vscode": {
      "interpreter": {
        "hash": "40d3a090f54c6569ab1632332b64b2c03c39dcf918b08424e98f38b5ae0af88f"
      }
    },
    "colab": {
      "provenance": []
    }
  },
  "nbformat": 4,
  "nbformat_minor": 0
}