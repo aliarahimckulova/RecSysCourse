{
  "cells": [
    {
      "cell_type": "markdown",
      "metadata": {
        "id": "icI90Trsl613"
      },
      "source": [
        "# 0. Configuration"
      ]
    },
    {
      "cell_type": "code",
      "execution_count": null,
      "metadata": {
        "id": "qYtmbHi8l616"
      },
      "outputs": [],
      "source": [
        "#TODO - add formulae in line with functions"
      ]
    },
    {
      "cell_type": "markdown",
      "metadata": {
        "id": "rtd08_D0l617"
      },
      "source": [
        "# 1. Modules and functions"
      ]
    },
    {
      "cell_type": "code",
      "execution_count": null,
      "metadata": {
        "id": "wo8837yvl617"
      },
      "outputs": [],
      "source": [
        "import numpy as np\n",
        "from math import log2"
      ]
    },
    {
      "cell_type": "markdown",
      "metadata": {
        "id": "djWpDfQHl618"
      },
      "source": [
        "# 2. Main"
      ]
    },
    {
      "cell_type": "markdown",
      "metadata": {
        "id": "xuA6_qHGl618"
      },
      "source": [
        "## 2.1. Precision@K"
      ]
    },
    {
      "cell_type": "code",
      "execution_count": null,
      "metadata": {
        "id": "ssEydSDxl618"
      },
      "outputs": [],
      "source": [
        "def precission_at_k(y_true: np.array, y_pred: np.array, k: int) -> float:\n",
        "    \"\"\"\n",
        "    y_true: true labels\n",
        "    y_pred: predicted lables\n",
        "    k: cutoff length\n",
        "    \"\"\"\n",
        "\n",
        "    if sum(y_true) == 0:\n",
        "        return -1\n",
        "\n",
        "    argsort = np.argsort(y_pred)[::-1]\n",
        "    y_true_sorted = y_true[argsort]\n",
        "    true_positives = y_true_sorted[:k].sum()\n",
        "\n",
        "    return true_positives / k\n"
      ]
    },
    {
      "cell_type": "code",
      "execution_count": null,
      "metadata": {
        "id": "gfa7wi_Ll619"
      },
      "outputs": [],
      "source": [
        "# example array\n",
        "y_true = np.array([1, 0, 0, 1, 0, 0])\n",
        "y_pred = np.array([6, 2, 3, 5, 4, 1])"
      ]
    },
    {
      "cell_type": "code",
      "execution_count": null,
      "metadata": {
        "colab": {
          "base_uri": "https://localhost:8080/"
        },
        "id": "iSR2aGeXl619",
        "outputId": "eee968bd-df07-41d8-f38e-3bdaf3d5adeb"
      },
      "outputs": [
        {
          "output_type": "execute_result",
          "data": {
            "text/plain": [
              "array([0, 3, 4, 2, 1, 5])"
            ]
          },
          "metadata": {},
          "execution_count": 4
        }
      ],
      "source": [
        "argsort = np.argsort(y_pred)[::-1]\n",
        "argsort"
      ]
    },
    {
      "cell_type": "code",
      "execution_count": null,
      "metadata": {
        "colab": {
          "base_uri": "https://localhost:8080/"
        },
        "id": "wu72vdCKl61-",
        "outputId": "e8e21c39-ddb6-4d3d-e980-441d3b5762d0"
      },
      "outputs": [
        {
          "output_type": "execute_result",
          "data": {
            "text/plain": [
              "array([1, 1, 0, 0, 0, 0])"
            ]
          },
          "metadata": {},
          "execution_count": 6
        }
      ],
      "source": [
        "y_true_sorted = y_true[argsort]\n",
        "y_true_sorted"
      ]
    },
    {
      "cell_type": "code",
      "execution_count": null,
      "metadata": {
        "colab": {
          "base_uri": "https://localhost:8080/"
        },
        "id": "ZmbfMqvbl61_",
        "outputId": "52df8bcb-4745-4397-ac15-9184db89dbe5"
      },
      "outputs": [
        {
          "output_type": "execute_result",
          "data": {
            "text/plain": [
              "2"
            ]
          },
          "metadata": {},
          "execution_count": 7
        }
      ],
      "source": [
        "true_positives = y_true_sorted[:6].sum()\n",
        "true_positives"
      ]
    },
    {
      "cell_type": "code",
      "execution_count": null,
      "metadata": {
        "colab": {
          "base_uri": "https://localhost:8080/"
        },
        "id": "Baw9YQQil61_",
        "outputId": "ad4d4134-2d07-4583-8d80-63fa6ce7ca6e"
      },
      "outputs": [
        {
          "output_type": "execute_result",
          "data": {
            "text/plain": [
              "0.3333333333333333"
            ]
          },
          "metadata": {},
          "execution_count": 8
        }
      ],
      "source": [
        "# as expected\n",
        "precission_at_k(y_true, y_pred, k = 6)"
      ]
    },
    {
      "cell_type": "markdown",
      "metadata": {
        "id": "1La60EIwl61_"
      },
      "source": [
        "## 2.2. AP@K, MAP@K"
      ]
    },
    {
      "cell_type": "code",
      "execution_count": null,
      "metadata": {
        "id": "EQajCqJ4l61_"
      },
      "outputs": [],
      "source": [
        "def average_precision(y_true: np.array, y_pred: np.array, k: int) -> float:\n",
        "\n",
        "    if sum(y_true) == 0:\n",
        "        return -1\n",
        "\n",
        "    if len(y_pred) > k:\n",
        "        y_pred = y_pred[:k]\n",
        "\n",
        "    argsort = np.argsort(y_pred)[::-1]\n",
        "    y_true_sorted = y_true[argsort]\n",
        "\n",
        "    num_hits = 0\n",
        "    score = 0\n",
        "\n",
        "    for i, p in enumerate(y_true_sorted, 1):\n",
        "        if p == 1:\n",
        "            num_hits += 1\n",
        "            score += num_hits / i\n",
        "    if num_hits == 0:\n",
        "        output = 0\n",
        "    \n",
        "    else:\n",
        "        output = score / min(len(y_true), k)\n",
        "\n",
        "    return output\n",
        "\n",
        "\n",
        "def mapk(actual, predicted, k=10):\n",
        "    res = []\n",
        "    for a,p in zip(actual, predicted):\n",
        "      res.append([average_precision(a,p,k) ])\n",
        "    return np.mean(res)"
      ]
    },
    {
      "cell_type": "code",
      "execution_count": null,
      "metadata": {
        "colab": {
          "base_uri": "https://localhost:8080/"
        },
        "id": "aseIzUQdl62A",
        "outputId": "64316401-46d6-4940-af1c-7eabdcb07b31"
      },
      "outputs": [
        {
          "output_type": "execute_result",
          "data": {
            "text/plain": [
              "0"
            ]
          },
          "metadata": {},
          "execution_count": 31
        }
      ],
      "source": [
        "average_precision(y_true, y_pred, k = 3)"
      ]
    },
    {
      "cell_type": "code",
      "source": [
        "y_true2 = np.array([[1, 0, 0, 1, 0, 0], [1, 0, 0, 1, 0, 0] ])\n",
        "y_pred2 = np.array([[6, 2, 3, 5, 4, 1], [1, 2, 3, 5, 4, 6]])\n",
        "\n",
        "mapk(y_true2, y_pred2, k = 3)"
      ],
      "metadata": {
        "colab": {
          "base_uri": "https://localhost:8080/"
        },
        "id": "vdDsqdcQ7F7N",
        "outputId": "bbb7c0c2-3f0c-4e73-fdf4-1f5f163b4932"
      },
      "execution_count": null,
      "outputs": [
        {
          "output_type": "execute_result",
          "data": {
            "text/plain": [
              "0.2222222222222222"
            ]
          },
          "metadata": {},
          "execution_count": 32
        }
      ]
    },
    {
      "cell_type": "markdown",
      "metadata": {
        "id": "GEHgDYRPl62A"
      },
      "source": [
        "## 2.3. MRR"
      ]
    },
    {
      "cell_type": "code",
      "execution_count": null,
      "metadata": {
        "id": "PTGloOUPl62A"
      },
      "outputs": [],
      "source": [
        "def reciprocal_rank(y_true: np.array, y_pred: np.array) -> float:\n",
        "    \n",
        "    argsort = np.argsort(y_pred)[::-1]\n",
        "    y_true_sorted = y_true[argsort]\n",
        "    for i, val in enumerate(y_true_sorted, 1):     \n",
        "        if val == 1:\n",
        "            return 1 / i\n",
        "    return 0\n"
      ]
    },
    {
      "cell_type": "code",
      "execution_count": null,
      "metadata": {
        "id": "gFpqHzm1l62B"
      },
      "outputs": [],
      "source": [
        "# example array for MRR\n",
        "y_true = np.array([1, 0, 0, 1, 0, 0])\n",
        "y_pred = np.array([0, 2, 3, 3.5, 4, 1])"
      ]
    },
    {
      "cell_type": "code",
      "execution_count": null,
      "metadata": {
        "colab": {
          "base_uri": "https://localhost:8080/"
        },
        "id": "IZVFPfp5l62B",
        "outputId": "9726fbd4-9c58-4a78-eab0-74c5f69de377"
      },
      "outputs": [
        {
          "output_type": "execute_result",
          "data": {
            "text/plain": [
              "0.5"
            ]
          },
          "metadata": {},
          "execution_count": 13
        }
      ],
      "source": [
        "reciprocal_rank(y_true, y_pred)"
      ]
    },
    {
      "cell_type": "markdown",
      "metadata": {
        "id": "0rZWDH77l62B"
      },
      "source": [
        "## 2.4. NDCG"
      ]
    },
    {
      "cell_type": "code",
      "execution_count": null,
      "metadata": {
        "id": "K7Zr3nkVl62B"
      },
      "outputs": [],
      "source": [
        "def compute_gain(y_value: float, gain_scheme: str) -> float:\n",
        "    \n",
        "    gain = {'exp2': 2 ** y_value - 1,\n",
        "            'const': y_value}\n",
        "\n",
        "    return float(gain[gain_scheme])"
      ]
    },
    {
      "cell_type": "code",
      "execution_count": null,
      "metadata": {
        "id": "z1GCePYvl62C"
      },
      "outputs": [],
      "source": [
        "def dcg(y_true: np.array, y_pred: np.array, gain_scheme: str, K: int = 10) -> float:\n",
        "    \n",
        "    dcg = 0\n",
        "    argsort = np.argsort(y_pred)[::-1]\n",
        "    y_true_sorted = y_true[argsort]\n",
        "    cnt = 0\n",
        "    for idx, val in enumerate(y_true_sorted, 1):\n",
        "        gain = compute_gain(val, gain_scheme)\n",
        "        dcg += gain / log2(idx + 1)\n",
        "        cnt += 1\n",
        "        if cnt>=K:\n",
        "          break\n",
        "        \n",
        "    return dcg\n"
      ]
    },
    {
      "cell_type": "code",
      "execution_count": null,
      "metadata": {
        "id": "xZVEMR1Ol62C"
      },
      "outputs": [],
      "source": [
        "def ndcg(y_true: np.array, ys_pred: np.array, gain_scheme: str = 'const', K: int = 10) -> float:\n",
        "    \n",
        "    # pred dcg then we calc the same to find max possible\n",
        "    preds_dcg = dcg(y_true, ys_pred, gain_scheme,K)\n",
        "    max_possible_dcg = dcg(y_true, y_true, gain_scheme,K)\n",
        "\n",
        "    return preds_dcg / max_possible_dcg\n"
      ]
    },
    {
      "cell_type": "code",
      "execution_count": null,
      "metadata": {
        "id": "17wLNxcPl62C"
      },
      "outputs": [],
      "source": [
        "y_pred = np.array([6, 5, 4, 3, 2, 1]) # some score to sort\n",
        "y_true = np.array([3, 2, 3, 0, 1, 2])"
      ]
    },
    {
      "cell_type": "code",
      "execution_count": null,
      "metadata": {
        "colab": {
          "base_uri": "https://localhost:8080/"
        },
        "id": "LT6YPc24l62D",
        "outputId": "24db42e4-5639-42ed-f0ba-7b47bcfcc124"
      },
      "outputs": [
        {
          "output_type": "execute_result",
          "data": {
            "text/plain": [
              "1.0"
            ]
          },
          "metadata": {},
          "execution_count": 24
        }
      ],
      "source": [
        "ndcg(y_true, y_pred, 'exp2', )"
      ]
    },
    {
      "cell_type": "markdown",
      "metadata": {
        "id": "ya0PCcTal62D"
      },
      "source": [
        "# TODO\n",
        "- Write MAP@K function;\n",
        "- Modify ndcg() such that it incomporates cutoff param K"
      ]
    }
  ],
  "metadata": {
    "kernelspec": {
      "display_name": "base",
      "language": "python",
      "name": "python3"
    },
    "language_info": {
      "codemirror_mode": {
        "name": "ipython",
        "version": 3
      },
      "file_extension": ".py",
      "mimetype": "text/x-python",
      "name": "python",
      "nbconvert_exporter": "python",
      "pygments_lexer": "ipython3",
      "version": "3.9.7"
    },
    "orig_nbformat": 4,
    "vscode": {
      "interpreter": {
        "hash": "40d3a090f54c6569ab1632332b64b2c03c39dcf918b08424e98f38b5ae0af88f"
      }
    },
    "colab": {
      "provenance": []
    }
  },
  "nbformat": 4,
  "nbformat_minor": 0
}